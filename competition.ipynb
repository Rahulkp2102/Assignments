{
 "cells": [
  {
   "cell_type": "code",
   "execution_count": 1,
   "id": "6fd558a4",
   "metadata": {},
   "outputs": [],
   "source": [
    "import pandas as pd\n",
    "import numpy as np\n",
    "import matplotlib.pyplot as plt\n",
    "import seaborn as sns"
   ]
  },
  {
   "cell_type": "code",
   "execution_count": 2,
   "id": "657babf8",
   "metadata": {},
   "outputs": [],
   "source": [
    "data=pd.read_csv(r'C:\\Users\\USER\\Downloads\\dataset1.csv')"
   ]
  },
  {
   "cell_type": "code",
   "execution_count": 3,
   "id": "88b42370",
   "metadata": {},
   "outputs": [
    {
     "data": {
      "text/html": [
       "<div>\n",
       "<style scoped>\n",
       "    .dataframe tbody tr th:only-of-type {\n",
       "        vertical-align: middle;\n",
       "    }\n",
       "\n",
       "    .dataframe tbody tr th {\n",
       "        vertical-align: top;\n",
       "    }\n",
       "\n",
       "    .dataframe thead th {\n",
       "        text-align: right;\n",
       "    }\n",
       "</style>\n",
       "<table border=\"1\" class=\"dataframe\">\n",
       "  <thead>\n",
       "    <tr style=\"text-align: right;\">\n",
       "      <th></th>\n",
       "      <th>user-id</th>\n",
       "      <th>user-age</th>\n",
       "      <th>user-gender</th>\n",
       "      <th>user-nationality</th>\n",
       "      <th>user-knowledge</th>\n",
       "      <th>user-loyalty</th>\n",
       "      <th>user-loan</th>\n",
       "      <th>user-income</th>\n",
       "      <th>user-savings</th>\n",
       "      <th>user-properties</th>\n",
       "      <th>...</th>\n",
       "      <th>user-dependents</th>\n",
       "      <th>user-pension</th>\n",
       "      <th>product-type</th>\n",
       "      <th>product-risk</th>\n",
       "      <th>product-term</th>\n",
       "      <th>product-yield</th>\n",
       "      <th>transaction-id</th>\n",
       "      <th>year</th>\n",
       "      <th>month</th>\n",
       "      <th>score</th>\n",
       "    </tr>\n",
       "  </thead>\n",
       "  <tbody>\n",
       "    <tr>\n",
       "      <th>0</th>\n",
       "      <td>ID500</td>\n",
       "      <td>41</td>\n",
       "      <td>female</td>\n",
       "      <td>local</td>\n",
       "      <td>low</td>\n",
       "      <td>sporadic</td>\n",
       "      <td>no</td>\n",
       "      <td>10822.0</td>\n",
       "      <td>132392.0</td>\n",
       "      <td>0</td>\n",
       "      <td>...</td>\n",
       "      <td>0</td>\n",
       "      <td>483040</td>\n",
       "      <td>bond</td>\n",
       "      <td>medium</td>\n",
       "      <td>30</td>\n",
       "      <td>medium</td>\n",
       "      <td>T5000</td>\n",
       "      <td>2019</td>\n",
       "      <td>9</td>\n",
       "      <td>0.061877</td>\n",
       "    </tr>\n",
       "    <tr>\n",
       "      <th>1</th>\n",
       "      <td>ID500</td>\n",
       "      <td>41</td>\n",
       "      <td>female</td>\n",
       "      <td>local</td>\n",
       "      <td>low</td>\n",
       "      <td>sporadic</td>\n",
       "      <td>no</td>\n",
       "      <td>10822.0</td>\n",
       "      <td>132392.0</td>\n",
       "      <td>0</td>\n",
       "      <td>...</td>\n",
       "      <td>0</td>\n",
       "      <td>483040</td>\n",
       "      <td>stock</td>\n",
       "      <td>high</td>\n",
       "      <td>10</td>\n",
       "      <td>high</td>\n",
       "      <td>T5001</td>\n",
       "      <td>2019</td>\n",
       "      <td>10</td>\n",
       "      <td>0.179746</td>\n",
       "    </tr>\n",
       "    <tr>\n",
       "      <th>2</th>\n",
       "      <td>ID500</td>\n",
       "      <td>41</td>\n",
       "      <td>female</td>\n",
       "      <td>local</td>\n",
       "      <td>low</td>\n",
       "      <td>sporadic</td>\n",
       "      <td>no</td>\n",
       "      <td>10822.0</td>\n",
       "      <td>132392.0</td>\n",
       "      <td>0</td>\n",
       "      <td>...</td>\n",
       "      <td>0</td>\n",
       "      <td>483040</td>\n",
       "      <td>etf</td>\n",
       "      <td>high</td>\n",
       "      <td>10</td>\n",
       "      <td>high</td>\n",
       "      <td>T5002</td>\n",
       "      <td>2019</td>\n",
       "      <td>9</td>\n",
       "      <td>0.767918</td>\n",
       "    </tr>\n",
       "    <tr>\n",
       "      <th>3</th>\n",
       "      <td>ID500</td>\n",
       "      <td>41</td>\n",
       "      <td>female</td>\n",
       "      <td>local</td>\n",
       "      <td>low</td>\n",
       "      <td>sporadic</td>\n",
       "      <td>no</td>\n",
       "      <td>NaN</td>\n",
       "      <td>132392.0</td>\n",
       "      <td>0</td>\n",
       "      <td>...</td>\n",
       "      <td>0</td>\n",
       "      <td>483040</td>\n",
       "      <td>etf</td>\n",
       "      <td>low</td>\n",
       "      <td>20</td>\n",
       "      <td>low</td>\n",
       "      <td>T5003</td>\n",
       "      <td>2017</td>\n",
       "      <td>12</td>\n",
       "      <td>0.606241</td>\n",
       "    </tr>\n",
       "    <tr>\n",
       "      <th>4</th>\n",
       "      <td>ID501</td>\n",
       "      <td>25</td>\n",
       "      <td>male</td>\n",
       "      <td>local</td>\n",
       "      <td>low</td>\n",
       "      <td>new</td>\n",
       "      <td>no</td>\n",
       "      <td>5284.0</td>\n",
       "      <td>51806.0</td>\n",
       "      <td>0</td>\n",
       "      <td>...</td>\n",
       "      <td>5</td>\n",
       "      <td>113300</td>\n",
       "      <td>etf</td>\n",
       "      <td>low</td>\n",
       "      <td>1</td>\n",
       "      <td>low</td>\n",
       "      <td>T5004</td>\n",
       "      <td>2019</td>\n",
       "      <td>10</td>\n",
       "      <td>0.829035</td>\n",
       "    </tr>\n",
       "    <tr>\n",
       "      <th>...</th>\n",
       "      <td>...</td>\n",
       "      <td>...</td>\n",
       "      <td>...</td>\n",
       "      <td>...</td>\n",
       "      <td>...</td>\n",
       "      <td>...</td>\n",
       "      <td>...</td>\n",
       "      <td>...</td>\n",
       "      <td>...</td>\n",
       "      <td>...</td>\n",
       "      <td>...</td>\n",
       "      <td>...</td>\n",
       "      <td>...</td>\n",
       "      <td>...</td>\n",
       "      <td>...</td>\n",
       "      <td>...</td>\n",
       "      <td>...</td>\n",
       "      <td>...</td>\n",
       "      <td>...</td>\n",
       "      <td>...</td>\n",
       "      <td>...</td>\n",
       "    </tr>\n",
       "    <tr>\n",
       "      <th>11380</th>\n",
       "      <td>ID4997</td>\n",
       "      <td>35</td>\n",
       "      <td>male</td>\n",
       "      <td>local</td>\n",
       "      <td>low</td>\n",
       "      <td>new</td>\n",
       "      <td>yes</td>\n",
       "      <td>7746.0</td>\n",
       "      <td>35799.0</td>\n",
       "      <td>1</td>\n",
       "      <td>...</td>\n",
       "      <td>2</td>\n",
       "      <td>1215452</td>\n",
       "      <td>stock</td>\n",
       "      <td>high</td>\n",
       "      <td>30</td>\n",
       "      <td>high</td>\n",
       "      <td>T16926</td>\n",
       "      <td>2015</td>\n",
       "      <td>4</td>\n",
       "      <td>0.173616</td>\n",
       "    </tr>\n",
       "    <tr>\n",
       "      <th>11381</th>\n",
       "      <td>ID4997</td>\n",
       "      <td>35</td>\n",
       "      <td>male</td>\n",
       "      <td>local</td>\n",
       "      <td>low</td>\n",
       "      <td>new</td>\n",
       "      <td>yes</td>\n",
       "      <td>7746.0</td>\n",
       "      <td>35799.0</td>\n",
       "      <td>1</td>\n",
       "      <td>...</td>\n",
       "      <td>2</td>\n",
       "      <td>1215452</td>\n",
       "      <td>etf</td>\n",
       "      <td>medium</td>\n",
       "      <td>20</td>\n",
       "      <td>medium</td>\n",
       "      <td>T16927</td>\n",
       "      <td>2018</td>\n",
       "      <td>3</td>\n",
       "      <td>0.091128</td>\n",
       "    </tr>\n",
       "    <tr>\n",
       "      <th>11382</th>\n",
       "      <td>ID4997</td>\n",
       "      <td>35</td>\n",
       "      <td>male</td>\n",
       "      <td>local</td>\n",
       "      <td>low</td>\n",
       "      <td>new</td>\n",
       "      <td>yes</td>\n",
       "      <td>7746.0</td>\n",
       "      <td>35799.0</td>\n",
       "      <td>1</td>\n",
       "      <td>...</td>\n",
       "      <td>2</td>\n",
       "      <td>1215452</td>\n",
       "      <td>etf</td>\n",
       "      <td>low</td>\n",
       "      <td>5</td>\n",
       "      <td>low</td>\n",
       "      <td>T16928</td>\n",
       "      <td>2016</td>\n",
       "      <td>2</td>\n",
       "      <td>0.713477</td>\n",
       "    </tr>\n",
       "    <tr>\n",
       "      <th>11383</th>\n",
       "      <td>ID4997</td>\n",
       "      <td>35</td>\n",
       "      <td>male</td>\n",
       "      <td>local</td>\n",
       "      <td>low</td>\n",
       "      <td>new</td>\n",
       "      <td>yes</td>\n",
       "      <td>7746.0</td>\n",
       "      <td>35799.0</td>\n",
       "      <td>1</td>\n",
       "      <td>...</td>\n",
       "      <td>2</td>\n",
       "      <td>1215452</td>\n",
       "      <td>etf</td>\n",
       "      <td>low</td>\n",
       "      <td>20</td>\n",
       "      <td>low</td>\n",
       "      <td>T16929</td>\n",
       "      <td>2018</td>\n",
       "      <td>9</td>\n",
       "      <td>0.162009</td>\n",
       "    </tr>\n",
       "    <tr>\n",
       "      <th>11384</th>\n",
       "      <td>ID4998</td>\n",
       "      <td>51</td>\n",
       "      <td>male</td>\n",
       "      <td>local</td>\n",
       "      <td>medium</td>\n",
       "      <td>long-term</td>\n",
       "      <td>no</td>\n",
       "      <td>15403.0</td>\n",
       "      <td>166934.0</td>\n",
       "      <td>4</td>\n",
       "      <td>...</td>\n",
       "      <td>0</td>\n",
       "      <td>2458230</td>\n",
       "      <td>bond</td>\n",
       "      <td>medium</td>\n",
       "      <td>1</td>\n",
       "      <td>medium</td>\n",
       "      <td>T16930</td>\n",
       "      <td>2018</td>\n",
       "      <td>11</td>\n",
       "      <td>0.888381</td>\n",
       "    </tr>\n",
       "  </tbody>\n",
       "</table>\n",
       "<p>11385 rows × 22 columns</p>\n",
       "</div>"
      ],
      "text/plain": [
       "      user-id  user-age user-gender user-nationality user-knowledge  \\\n",
       "0       ID500        41      female            local            low   \n",
       "1       ID500        41      female            local            low   \n",
       "2       ID500        41      female            local            low   \n",
       "3       ID500        41      female            local            low   \n",
       "4       ID501        25        male            local            low   \n",
       "...       ...       ...         ...              ...            ...   \n",
       "11380  ID4997        35        male            local            low   \n",
       "11381  ID4997        35        male            local            low   \n",
       "11382  ID4997        35        male            local            low   \n",
       "11383  ID4997        35        male            local            low   \n",
       "11384  ID4998        51        male            local         medium   \n",
       "\n",
       "      user-loyalty user-loan  user-income  user-savings  user-properties  ...  \\\n",
       "0         sporadic        no      10822.0      132392.0                0  ...   \n",
       "1         sporadic        no      10822.0      132392.0                0  ...   \n",
       "2         sporadic        no      10822.0      132392.0                0  ...   \n",
       "3         sporadic        no          NaN      132392.0                0  ...   \n",
       "4              new        no       5284.0       51806.0                0  ...   \n",
       "...            ...       ...          ...           ...              ...  ...   \n",
       "11380          new       yes       7746.0       35799.0                1  ...   \n",
       "11381          new       yes       7746.0       35799.0                1  ...   \n",
       "11382          new       yes       7746.0       35799.0                1  ...   \n",
       "11383          new       yes       7746.0       35799.0                1  ...   \n",
       "11384    long-term        no      15403.0      166934.0                4  ...   \n",
       "\n",
       "      user-dependents user-pension  product-type  product-risk product-term  \\\n",
       "0                   0       483040          bond        medium           30   \n",
       "1                   0       483040         stock          high           10   \n",
       "2                   0       483040           etf          high           10   \n",
       "3                   0       483040           etf           low           20   \n",
       "4                   5       113300           etf           low            1   \n",
       "...               ...          ...           ...           ...          ...   \n",
       "11380               2      1215452         stock          high           30   \n",
       "11381               2      1215452           etf        medium           20   \n",
       "11382               2      1215452           etf           low            5   \n",
       "11383               2      1215452           etf           low           20   \n",
       "11384               0      2458230          bond        medium            1   \n",
       "\n",
       "      product-yield  transaction-id  year month     score  \n",
       "0            medium           T5000  2019     9  0.061877  \n",
       "1              high           T5001  2019    10  0.179746  \n",
       "2              high           T5002  2019     9  0.767918  \n",
       "3               low           T5003  2017    12  0.606241  \n",
       "4               low           T5004  2019    10  0.829035  \n",
       "...             ...             ...   ...   ...       ...  \n",
       "11380          high          T16926  2015     4  0.173616  \n",
       "11381        medium          T16927  2018     3  0.091128  \n",
       "11382           low          T16928  2016     2  0.713477  \n",
       "11383           low          T16929  2018     9  0.162009  \n",
       "11384        medium          T16930  2018    11  0.888381  \n",
       "\n",
       "[11385 rows x 22 columns]"
      ]
     },
     "execution_count": 3,
     "metadata": {},
     "output_type": "execute_result"
    }
   ],
   "source": [
    "data"
   ]
  },
  {
   "cell_type": "code",
   "execution_count": 4,
   "id": "47914c2d",
   "metadata": {},
   "outputs": [
    {
     "data": {
      "text/plain": [
       "(11385, 22)"
      ]
     },
     "execution_count": 4,
     "metadata": {},
     "output_type": "execute_result"
    }
   ],
   "source": [
    "data.shape"
   ]
  },
  {
   "cell_type": "code",
   "execution_count": 5,
   "id": "f079744b",
   "metadata": {},
   "outputs": [
    {
     "data": {
      "text/html": [
       "<div>\n",
       "<style scoped>\n",
       "    .dataframe tbody tr th:only-of-type {\n",
       "        vertical-align: middle;\n",
       "    }\n",
       "\n",
       "    .dataframe tbody tr th {\n",
       "        vertical-align: top;\n",
       "    }\n",
       "\n",
       "    .dataframe thead th {\n",
       "        text-align: right;\n",
       "    }\n",
       "</style>\n",
       "<table border=\"1\" class=\"dataframe\">\n",
       "  <thead>\n",
       "    <tr style=\"text-align: right;\">\n",
       "      <th></th>\n",
       "      <th>user-age</th>\n",
       "      <th>user-income</th>\n",
       "      <th>user-savings</th>\n",
       "      <th>user-properties</th>\n",
       "      <th>user-dependents</th>\n",
       "      <th>user-pension</th>\n",
       "      <th>product-term</th>\n",
       "      <th>year</th>\n",
       "      <th>month</th>\n",
       "      <th>score</th>\n",
       "    </tr>\n",
       "  </thead>\n",
       "  <tbody>\n",
       "    <tr>\n",
       "      <th>count</th>\n",
       "      <td>11385.000000</td>\n",
       "      <td>11373.000000</td>\n",
       "      <td>11380.000000</td>\n",
       "      <td>11385.000000</td>\n",
       "      <td>11385.000000</td>\n",
       "      <td>1.138500e+04</td>\n",
       "      <td>11385.000000</td>\n",
       "      <td>11385.000000</td>\n",
       "      <td>11385.000000</td>\n",
       "      <td>11385.000000</td>\n",
       "    </tr>\n",
       "    <tr>\n",
       "      <th>mean</th>\n",
       "      <td>39.889328</td>\n",
       "      <td>10548.011606</td>\n",
       "      <td>105521.185940</td>\n",
       "      <td>1.454018</td>\n",
       "      <td>0.776372</td>\n",
       "      <td>2.421531e+06</td>\n",
       "      <td>11.700044</td>\n",
       "      <td>2017.357664</td>\n",
       "      <td>6.091787</td>\n",
       "      <td>0.524260</td>\n",
       "    </tr>\n",
       "    <tr>\n",
       "      <th>std</th>\n",
       "      <td>9.530080</td>\n",
       "      <td>3842.427608</td>\n",
       "      <td>51689.445766</td>\n",
       "      <td>1.593430</td>\n",
       "      <td>1.425432</td>\n",
       "      <td>2.554458e+06</td>\n",
       "      <td>9.879459</td>\n",
       "      <td>1.201998</td>\n",
       "      <td>3.361180</td>\n",
       "      <td>0.288521</td>\n",
       "    </tr>\n",
       "    <tr>\n",
       "      <th>min</th>\n",
       "      <td>21.000000</td>\n",
       "      <td>1505.000000</td>\n",
       "      <td>112.000000</td>\n",
       "      <td>0.000000</td>\n",
       "      <td>0.000000</td>\n",
       "      <td>0.000000e+00</td>\n",
       "      <td>1.000000</td>\n",
       "      <td>2015.000000</td>\n",
       "      <td>1.000000</td>\n",
       "      <td>0.000000</td>\n",
       "    </tr>\n",
       "    <tr>\n",
       "      <th>25%</th>\n",
       "      <td>33.000000</td>\n",
       "      <td>7669.000000</td>\n",
       "      <td>66925.000000</td>\n",
       "      <td>0.000000</td>\n",
       "      <td>0.000000</td>\n",
       "      <td>6.184000e+05</td>\n",
       "      <td>5.000000</td>\n",
       "      <td>2016.000000</td>\n",
       "      <td>3.000000</td>\n",
       "      <td>0.251313</td>\n",
       "    </tr>\n",
       "    <tr>\n",
       "      <th>50%</th>\n",
       "      <td>39.000000</td>\n",
       "      <td>10402.000000</td>\n",
       "      <td>98438.000000</td>\n",
       "      <td>1.000000</td>\n",
       "      <td>0.000000</td>\n",
       "      <td>1.643700e+06</td>\n",
       "      <td>10.000000</td>\n",
       "      <td>2018.000000</td>\n",
       "      <td>7.000000</td>\n",
       "      <td>0.596343</td>\n",
       "    </tr>\n",
       "    <tr>\n",
       "      <th>75%</th>\n",
       "      <td>47.000000</td>\n",
       "      <td>13240.000000</td>\n",
       "      <td>135536.000000</td>\n",
       "      <td>2.000000</td>\n",
       "      <td>1.000000</td>\n",
       "      <td>3.389412e+06</td>\n",
       "      <td>20.000000</td>\n",
       "      <td>2018.000000</td>\n",
       "      <td>9.000000</td>\n",
       "      <td>0.735318</td>\n",
       "    </tr>\n",
       "    <tr>\n",
       "      <th>max</th>\n",
       "      <td>74.000000</td>\n",
       "      <td>24330.000000</td>\n",
       "      <td>360259.000000</td>\n",
       "      <td>9.000000</td>\n",
       "      <td>9.000000</td>\n",
       "      <td>2.138323e+07</td>\n",
       "      <td>30.000000</td>\n",
       "      <td>2019.000000</td>\n",
       "      <td>12.000000</td>\n",
       "      <td>1.000000</td>\n",
       "    </tr>\n",
       "  </tbody>\n",
       "</table>\n",
       "</div>"
      ],
      "text/plain": [
       "           user-age   user-income   user-savings  user-properties  \\\n",
       "count  11385.000000  11373.000000   11380.000000     11385.000000   \n",
       "mean      39.889328  10548.011606  105521.185940         1.454018   \n",
       "std        9.530080   3842.427608   51689.445766         1.593430   \n",
       "min       21.000000   1505.000000     112.000000         0.000000   \n",
       "25%       33.000000   7669.000000   66925.000000         0.000000   \n",
       "50%       39.000000  10402.000000   98438.000000         1.000000   \n",
       "75%       47.000000  13240.000000  135536.000000         2.000000   \n",
       "max       74.000000  24330.000000  360259.000000         9.000000   \n",
       "\n",
       "       user-dependents  user-pension  product-term          year  \\\n",
       "count     11385.000000  1.138500e+04  11385.000000  11385.000000   \n",
       "mean          0.776372  2.421531e+06     11.700044   2017.357664   \n",
       "std           1.425432  2.554458e+06      9.879459      1.201998   \n",
       "min           0.000000  0.000000e+00      1.000000   2015.000000   \n",
       "25%           0.000000  6.184000e+05      5.000000   2016.000000   \n",
       "50%           0.000000  1.643700e+06     10.000000   2018.000000   \n",
       "75%           1.000000  3.389412e+06     20.000000   2018.000000   \n",
       "max           9.000000  2.138323e+07     30.000000   2019.000000   \n",
       "\n",
       "              month         score  \n",
       "count  11385.000000  11385.000000  \n",
       "mean       6.091787      0.524260  \n",
       "std        3.361180      0.288521  \n",
       "min        1.000000      0.000000  \n",
       "25%        3.000000      0.251313  \n",
       "50%        7.000000      0.596343  \n",
       "75%        9.000000      0.735318  \n",
       "max       12.000000      1.000000  "
      ]
     },
     "execution_count": 5,
     "metadata": {},
     "output_type": "execute_result"
    }
   ],
   "source": [
    "data.describe()"
   ]
  },
  {
   "cell_type": "code",
   "execution_count": 6,
   "id": "1bdb9f54",
   "metadata": {},
   "outputs": [
    {
     "data": {
      "text/plain": [
       "Index(['user-id', 'user-age', 'user-gender', 'user-nationality',\n",
       "       'user-knowledge', 'user-loyalty', 'user-loan', 'user-income',\n",
       "       'user-savings', 'user-properties', 'user-riskAversion', 'user-marital',\n",
       "       'user-dependents', 'user-pension', 'product-type', 'product-risk',\n",
       "       'product-term', 'product-yield', 'transaction-id', 'year', 'month',\n",
       "       'score'],\n",
       "      dtype='object')"
      ]
     },
     "execution_count": 6,
     "metadata": {},
     "output_type": "execute_result"
    }
   ],
   "source": [
    "data.columns"
   ]
  },
  {
   "cell_type": "code",
   "execution_count": 7,
   "id": "f0cf79f1",
   "metadata": {},
   "outputs": [
    {
     "name": "stdout",
     "output_type": "stream",
     "text": [
      "<class 'pandas.core.frame.DataFrame'>\n",
      "RangeIndex: 11385 entries, 0 to 11384\n",
      "Data columns (total 22 columns):\n",
      " #   Column             Non-Null Count  Dtype  \n",
      "---  ------             --------------  -----  \n",
      " 0   user-id            11385 non-null  object \n",
      " 1   user-age           11385 non-null  int64  \n",
      " 2   user-gender        11385 non-null  object \n",
      " 3   user-nationality   11385 non-null  object \n",
      " 4   user-knowledge     11385 non-null  object \n",
      " 5   user-loyalty       11385 non-null  object \n",
      " 6   user-loan          11385 non-null  object \n",
      " 7   user-income        11373 non-null  float64\n",
      " 8   user-savings       11380 non-null  float64\n",
      " 9   user-properties    11385 non-null  int64  \n",
      " 10  user-riskAversion  11385 non-null  object \n",
      " 11  user-marital       11385 non-null  object \n",
      " 12  user-dependents    11385 non-null  int64  \n",
      " 13  user-pension       11385 non-null  int64  \n",
      " 14  product-type       11385 non-null  object \n",
      " 15  product-risk       11385 non-null  object \n",
      " 16  product-term       11385 non-null  int64  \n",
      " 17  product-yield      11385 non-null  object \n",
      " 18  transaction-id     11385 non-null  object \n",
      " 19  year               11385 non-null  int64  \n",
      " 20  month              11385 non-null  int64  \n",
      " 21  score              11385 non-null  float64\n",
      "dtypes: float64(3), int64(7), object(12)\n",
      "memory usage: 1.9+ MB\n"
     ]
    }
   ],
   "source": [
    "data.info()"
   ]
  },
  {
   "cell_type": "code",
   "execution_count": 8,
   "id": "a3fd68b1",
   "metadata": {},
   "outputs": [
    {
     "data": {
      "text/plain": [
       "user-id               object\n",
       "user-age               int64\n",
       "user-gender           object\n",
       "user-nationality      object\n",
       "user-knowledge        object\n",
       "user-loyalty          object\n",
       "user-loan             object\n",
       "user-income          float64\n",
       "user-savings         float64\n",
       "user-properties        int64\n",
       "user-riskAversion     object\n",
       "user-marital          object\n",
       "user-dependents        int64\n",
       "user-pension           int64\n",
       "product-type          object\n",
       "product-risk          object\n",
       "product-term           int64\n",
       "product-yield         object\n",
       "transaction-id        object\n",
       "year                   int64\n",
       "month                  int64\n",
       "score                float64\n",
       "dtype: object"
      ]
     },
     "execution_count": 8,
     "metadata": {},
     "output_type": "execute_result"
    }
   ],
   "source": [
    "data.dtypes"
   ]
  },
  {
   "cell_type": "code",
   "execution_count": 9,
   "id": "3f440f48",
   "metadata": {},
   "outputs": [
    {
     "data": {
      "text/plain": [
       "0"
      ]
     },
     "execution_count": 9,
     "metadata": {},
     "output_type": "execute_result"
    }
   ],
   "source": [
    "data.duplicated().sum()"
   ]
  },
  {
   "cell_type": "markdown",
   "id": "ba15bee7",
   "metadata": {},
   "source": [
    "# Exploratory Data Analysis"
   ]
  },
  {
   "cell_type": "code",
   "execution_count": 10,
   "id": "7e3da62f",
   "metadata": {},
   "outputs": [
    {
     "data": {
      "text/plain": [
       "['user-age',\n",
       " 'user-income',\n",
       " 'user-savings',\n",
       " 'user-properties',\n",
       " 'user-dependents',\n",
       " 'user-pension',\n",
       " 'product-term',\n",
       " 'year',\n",
       " 'month',\n",
       " 'score']"
      ]
     },
     "execution_count": 10,
     "metadata": {},
     "output_type": "execute_result"
    }
   ],
   "source": [
    "#seperating numerical variable\n",
    "nf=[feature for feature in data.columns if data[feature].dtype!=object]\n",
    "nf"
   ]
  },
  {
   "cell_type": "code",
   "execution_count": 11,
   "id": "7dfe6676",
   "metadata": {},
   "outputs": [
    {
     "data": {
      "text/plain": [
       "array([[<AxesSubplot:title={'center':'user-age'}>,\n",
       "        <AxesSubplot:title={'center':'user-income'}>,\n",
       "        <AxesSubplot:title={'center':'user-savings'}>],\n",
       "       [<AxesSubplot:title={'center':'user-properties'}>,\n",
       "        <AxesSubplot:title={'center':'user-dependents'}>,\n",
       "        <AxesSubplot:title={'center':'user-pension'}>],\n",
       "       [<AxesSubplot:title={'center':'product-term'}>,\n",
       "        <AxesSubplot:title={'center':'year'}>,\n",
       "        <AxesSubplot:title={'center':'month'}>],\n",
       "       [<AxesSubplot:title={'center':'score'}>, <AxesSubplot:>,\n",
       "        <AxesSubplot:>]], dtype=object)"
      ]
     },
     "execution_count": 11,
     "metadata": {},
     "output_type": "execute_result"
    },
    {
     "data": {
      "image/png": "[encoded data removed]",
      "text/plain": [
       "<Figure size 2160x2160 with 12 Axes>"
      ]
     },
     "metadata": {
      "needs_background": "light"
     },
     "output_type": "display_data"
    }
   ],
   "source": [
    "data[nf].hist(figsize=(30,30))"
   ]
  },
  {
   "cell_type": "code",
   "execution_count": 12,
   "id": "5b6c15f1",
   "metadata": {},
   "outputs": [
    {
     "data": {
      "text/plain": [
       "['user-gender',\n",
       " 'user-nationality',\n",
       " 'user-knowledge',\n",
       " 'user-loyalty',\n",
       " 'user-loan',\n",
       " 'user-properties',\n",
       " 'user-riskAversion',\n",
       " 'user-marital',\n",
       " 'user-dependents',\n",
       " 'product-type',\n",
       " 'product-risk',\n",
       " 'product-term',\n",
       " 'product-yield',\n",
       " 'year',\n",
       " 'month']"
      ]
     },
     "execution_count": 12,
     "metadata": {},
     "output_type": "execute_result"
    }
   ],
   "source": [
    "#Separating Categorical Columns\n",
    "cf=[features for features in data.columns if features not in (nf and ['user-id','transaction-id','user-age','score','user-pension','user-savings','user-income'])]\n",
    "cf"
   ]
  },
  {
   "cell_type": "code",
   "execution_count": 13,
   "id": "0a510338",
   "metadata": {},
   "outputs": [
    {
     "data": {
      "image/png": "[encoded data removed]",
      "text/plain": [
       "<Figure size 360x360 with 1 Axes>"
      ]
     },
     "metadata": {
      "needs_background": "light"
     },
     "output_type": "display_data"
    },
    {
     "data": {
      "image/png": "[encoded data removed]",
      "text/plain": [
       "<Figure size 360x360 with 1 Axes>"
      ]
     },
     "metadata": {
      "needs_background": "light"
     },
     "output_type": "display_data"
    },
    {
     "data": {
      "image/png": "[encoded data removed]",
      "text/plain": [
       "<Figure size 360x360 with 1 Axes>"
      ]
     },
     "metadata": {
      "needs_background": "light"
     },
     "output_type": "display_data"
    },
    {
     "data": {
      "image/png": "[encoded data removed]",
      "text/plain": [
       "<Figure size 360x360 with 1 Axes>"
      ]
     },
     "metadata": {
      "needs_background": "light"
     },
     "output_type": "display_data"
    },
    {
     "data": {
      "image/png": "[encoded data removed]",
      "text/plain": [
       "<Figure size 360x360 with 1 Axes>"
      ]
     },
     "metadata": {
      "needs_background": "light"
     },
     "output_type": "display_data"
    },
    {
     "data": {
      "image/png": "[encoded data removed]",
      "text/plain": [
       "<Figure size 360x360 with 1 Axes>"
      ]
     },
     "metadata": {
      "needs_background": "light"
     },
     "output_type": "display_data"
    },
    {
     "data": {
      "image/png": "[encoded data removed]",
      "text/plain": [
       "<Figure size 360x360 with 1 Axes>"
      ]
     },
     "metadata": {
      "needs_background": "light"
     },
     "output_type": "display_data"
    },
    {
     "data": {
      "image/png": "[encoded data removed]",
      "text/plain": [
       "<Figure size 360x360 with 1 Axes>"
      ]
     },
     "metadata": {
      "needs_background": "light"
     },
     "output_type": "display_data"
    },
    {
     "data": {
      "image/png": "[encoded data removed]",
      "text/plain": [
       "<Figure size 360x360 with 1 Axes>"
      ]
     },
     "metadata": {
      "needs_background": "light"
     },
     "output_type": "display_data"
    },
    {
     "data": {
      "image/png": "[encoded data removed]",
      "text/plain": [
       "<Figure size 360x360 with 1 Axes>"
      ]
     },
     "metadata": {
      "needs_background": "light"
     },
     "output_type": "display_data"
    },
    {
     "data": {
      "image/png": "[encoded data removed]",
      "text/plain": [
       "<Figure size 360x360 with 1 Axes>"
      ]
     },
     "metadata": {
      "needs_background": "light"
     },
     "output_type": "display_data"
    },
    {
     "data": {
      "image/png": "[encoded data removed]",
      "text/plain": [
       "<Figure size 360x360 with 1 Axes>"
      ]
     },
     "metadata": {
      "needs_background": "light"
     },
     "output_type": "display_data"
    },
    {
     "data": {
      "image/png": "[encoded data removed]",
      "text/plain": [
       "<Figure size 360x360 with 1 Axes>"
      ]
     },
     "metadata": {
      "needs_background": "light"
     },
     "output_type": "display_data"
    },
    {
     "data": {
      "image/png": "[encoded data removed]",
      "text/plain": [
       "<Figure size 360x360 with 1 Axes>"
      ]
     },
     "metadata": {
      "needs_background": "light"
     },
     "output_type": "display_data"
    },
    {
     "data": {
      "image/png": "[encoded data removed]",
      "text/plain": [
       "<Figure size 360x360 with 1 Axes>"
      ]
     },
     "metadata": {
      "needs_background": "light"
     },
     "output_type": "display_data"
    }
   ],
   "source": [
    "#Analysing Categorical columns\n",
    "for feature in cf:\n",
    "    plt.figure(figsize=(5,5))\n",
    "    ax = sns.countplot(x=feature, data=data)\n",
    "    plt.xticks(rotation=45)\n",
    "    plt.show()"
   ]
  },
  {
   "cell_type": "markdown",
   "id": "ea659441",
   "metadata": {},
   "source": [
    "Inference\n",
    "1.Male customers dominate\n",
    "2.Majority of Customers are local people\n",
    "3.most of the customers are having less knowledge about the product\n",
    "4.Married people purchase more products\n",
    "5.Risk is high\n",
    "6.Product yeild is very high"
   ]
  },
  {
   "cell_type": "code",
   "execution_count": 14,
   "id": "ead0525e",
   "metadata": {},
   "outputs": [],
   "source": [
    "#bivariate"
   ]
  },
  {
   "cell_type": "code",
   "execution_count": 15,
   "id": "2fad54bd",
   "metadata": {},
   "outputs": [
    {
     "ename": "NameError",
     "evalue": "name 'linear_model' is not defined",
     "output_type": "error",
     "traceback": [
      "\u001b[1;31m---------------------------------------------------------------------------\u001b[0m",
      "\u001b[1;31mNameError\u001b[0m                                 Traceback (most recent call last)",
      "\u001b[1;32m~\\AppData\\Local\\Temp/ipykernel_1756/2876138085.py\u001b[0m in \u001b[0;36m<module>\u001b[1;34m\u001b[0m\n\u001b[0;32m      1\u001b[0m \u001b[1;32mfrom\u001b[0m \u001b[0mpprint\u001b[0m \u001b[1;32mimport\u001b[0m \u001b[0mpprint\u001b[0m\u001b[1;33m\u001b[0m\u001b[1;33m\u001b[0m\u001b[0m\n\u001b[0;32m      2\u001b[0m \u001b[1;33m\u001b[0m\u001b[0m\n\u001b[1;32m----> 3\u001b[1;33m \u001b[0mlr\u001b[0m\u001b[1;33m=\u001b[0m\u001b[0mlinear_model\u001b[0m\u001b[1;33m.\u001b[0m\u001b[0mLinearRegression\u001b[0m\u001b[1;33m(\u001b[0m\u001b[1;33m)\u001b[0m\u001b[1;33m\u001b[0m\u001b[1;33m\u001b[0m\u001b[0m\n\u001b[0m\u001b[0;32m      4\u001b[0m \u001b[1;33m\u001b[0m\u001b[0m\n\u001b[0;32m      5\u001b[0m \u001b[0mprint\u001b[0m\u001b[1;33m(\u001b[0m\u001b[1;34m'Parameters currently in use:\\n'\u001b[0m\u001b[1;33m)\u001b[0m\u001b[1;33m\u001b[0m\u001b[1;33m\u001b[0m\u001b[0m\n",
      "\u001b[1;31mNameError\u001b[0m: name 'linear_model' is not defined"
     ]
    }
   ],
   "source": [
    "from pprint import pprint\n",
    "\n",
    "lr=linear_model.LinearRegression()\n",
    "\n",
    "print('Parameters currently in use:\\n')\n",
    "pprint(lr.get_params())"
   ]
  },
  {
   "cell_type": "markdown",
   "id": "834e0538",
   "metadata": {},
   "source": [
    "# preprocessing"
   ]
  },
  {
   "cell_type": "code",
   "execution_count": null,
   "id": "23e0b867",
   "metadata": {},
   "outputs": [],
   "source": [
    "# to find missing values"
   ]
  },
  {
   "cell_type": "code",
   "execution_count": null,
   "id": "935dd551",
   "metadata": {},
   "outputs": [],
   "source": [
    "data.isna().sum()"
   ]
  },
  {
   "cell_type": "code",
   "execution_count": null,
   "id": "32be46c3",
   "metadata": {},
   "outputs": [],
   "source": [
    "# filling missing values"
   ]
  },
  {
   "cell_type": "code",
   "execution_count": null,
   "id": "638d0087",
   "metadata": {},
   "outputs": [],
   "source": [
    "data.columns"
   ]
  },
  {
   "cell_type": "code",
   "execution_count": null,
   "id": "0583d928",
   "metadata": {},
   "outputs": [],
   "source": [
    "data['user-income']=data['user-income'].fillna(data['user-income']).median()"
   ]
  },
  {
   "cell_type": "code",
   "execution_count": null,
   "id": "306f5b78",
   "metadata": {},
   "outputs": [],
   "source": [
    "data.isna().sum()"
   ]
  },
  {
   "cell_type": "code",
   "execution_count": null,
   "id": "9450854c",
   "metadata": {},
   "outputs": [],
   "source": [
    "data['user-savings'].ffill(inplace=True)"
   ]
  },
  {
   "cell_type": "code",
   "execution_count": null,
   "id": "5381bbec",
   "metadata": {},
   "outputs": [],
   "source": [
    "data.isna().sum()"
   ]
  },
  {
   "cell_type": "code",
   "execution_count": null,
   "id": "db939f8f",
   "metadata": {},
   "outputs": [],
   "source": [
    "# outlier detecting and handling"
   ]
  },
  {
   "cell_type": "code",
   "execution_count": null,
   "id": "815530f3",
   "metadata": {},
   "outputs": [],
   "source": [
    "data.columns"
   ]
  },
  {
   "cell_type": "code",
   "execution_count": null,
   "id": "c0e469d1",
   "metadata": {},
   "outputs": [],
   "source": [
    "plt.boxplot(data[['user-age','user-savings','user-income','user-pension','year','month','score']])\n",
    "plt.show()"
   ]
  },
  {
   "cell_type": "code",
   "execution_count": null,
   "id": "8f3f6190",
   "metadata": {},
   "outputs": [],
   "source": [
    "plt.boxplot(data[['user-savings']])\n",
    "plt.show()"
   ]
  },
  {
   "cell_type": "code",
   "execution_count": null,
   "id": "7782217f",
   "metadata": {},
   "outputs": [],
   "source": [
    "plt.boxplot(data[['user-age']])\n",
    "plt.show()"
   ]
  },
  {
   "cell_type": "markdown",
   "id": "654e3a68",
   "metadata": {},
   "source": [
    "#In this dataset 3 columns (user-age,user-savings,user-pension) are having outliers. Outliers in user-age column can be negleced ,We have to remove Outliers from user-pension and user-savings"
   ]
  },
  {
   "cell_type": "code",
   "execution_count": null,
   "id": "142d529b",
   "metadata": {},
   "outputs": [],
   "source": [
    "#Finding Quartiles and inter quartile of user-pension\n",
    "Q1=np.percentile(data['user-pension'],25,interpolation='midpoint')\n",
    "Q2=np.percentile(data['user-pension'],50,interpolation='midpoint')\n",
    "Q3=np.percentile(data['user-pension'],75,interpolation='midpoint')\n",
    "IQR=Q3-Q1\n",
    "low_lim=Q1-1.5*IQR\n",
    "up_lim=Q3+1.5*IQR\n",
    "print('Q1 : ',Q1,'\\n'\n",
    "     'Q2 : ',Q2,'\\n'\n",
    "     'Q3 : ',Q3)\n",
    "print('IQR : ',IQR)\n",
    "print('lower-limit : ',low_lim)\n",
    "print('upper-limit : ',up_lim)"
   ]
  },
  {
   "cell_type": "code",
   "execution_count": null,
   "id": "80edc857",
   "metadata": {},
   "outputs": [],
   "source": [
    "outlier=[]\n",
    "for x in data['user-pension']:\n",
    "    if((x>up_lim)or(x<low_lim)):\n",
    "        outlier.append(x)"
   ]
  },
  {
   "cell_type": "code",
   "execution_count": null,
   "id": "bdc1b866",
   "metadata": {},
   "outputs": [],
   "source": [
    "outlier"
   ]
  },
  {
   "cell_type": "code",
   "execution_count": null,
   "id": "2c0d42ee",
   "metadata": {},
   "outputs": [],
   "source": [
    "ind1=data['user-pension']>up_lim\n",
    "data.loc[ind1].index"
   ]
  },
  {
   "cell_type": "code",
   "execution_count": null,
   "id": "2f83ffa2",
   "metadata": {},
   "outputs": [],
   "source": [
    "data.drop(data[(data['user-pension']>up_lim)].index,inplace=True)"
   ]
  },
  {
   "cell_type": "code",
   "execution_count": null,
   "id": "5d46d446",
   "metadata": {},
   "outputs": [],
   "source": [
    "data.shape"
   ]
  },
  {
   "cell_type": "code",
   "execution_count": null,
   "id": "2beb98df",
   "metadata": {},
   "outputs": [],
   "source": [
    "#Finding Quartiles of user-savings\n",
    "q1=np.percentile(data['user-savings'],25,interpolation='midpoint')\n",
    "q2=np.percentile(data['user-savings'],50,interpolation='midpoint')\n",
    "q3=np.percentile(data['user-savings'],75,interpolation='midpoint')\n",
    "print('Q1:',q1)\n",
    "print('Q2:',q2)\n",
    "print('Q3:',q3)"
   ]
  },
  {
   "cell_type": "code",
   "execution_count": null,
   "id": "84959787",
   "metadata": {},
   "outputs": [],
   "source": [
    "#Finding Inter Qurtile Range\n",
    "IQR=q3-q1\n",
    "print('IQR:',IQR)\n",
    "low_lim=q1-1.5*IQR\n",
    "up_lim=q3+1.5*IQR\n",
    "print('lower limit:',low_lim)\n",
    "print('upper limit:',up_lim)"
   ]
  },
  {
   "cell_type": "code",
   "execution_count": null,
   "id": "3ce70e56",
   "metadata": {},
   "outputs": [],
   "source": [
    "outlier=[]\n",
    "for x in data['user-savings']:\n",
    "    if x>up_lim or x<low_lim:\n",
    "        outlier.append(x)\n",
    "ind=data['user-savings']  > up_lim\n",
    "data.loc[ind].index"
   ]
  },
  {
   "cell_type": "code",
   "execution_count": null,
   "id": "3f6912c2",
   "metadata": {},
   "outputs": [],
   "source": [
    "data.drop(data[(data['user-savings']  > up_lim)].index,inplace=True)\n",
    "data.shape"
   ]
  },
  {
   "cell_type": "code",
   "execution_count": null,
   "id": "5e2a755a",
   "metadata": {},
   "outputs": [],
   "source": [
    "plt.boxplot(data[['user-savings','user-pension']])\n",
    "plt.show()"
   ]
  },
  {
   "cell_type": "code",
   "execution_count": null,
   "id": "0b976c3f",
   "metadata": {},
   "outputs": [],
   "source": [
    "#encoding"
   ]
  },
  {
   "cell_type": "code",
   "execution_count": null,
   "id": "deed04b0",
   "metadata": {},
   "outputs": [],
   "source": [
    "data.head()"
   ]
  },
  {
   "cell_type": "code",
   "execution_count": null,
   "id": "73383b1e",
   "metadata": {},
   "outputs": [],
   "source": [
    "data[['user-nationality','user-knowledge','user-loyalty']].value_counts()"
   ]
  },
  {
   "cell_type": "code",
   "execution_count": null,
   "id": "be81fb74",
   "metadata": {},
   "outputs": [],
   "source": [
    "data.nunique()"
   ]
  },
  {
   "cell_type": "code",
   "execution_count": null,
   "id": "2a924351",
   "metadata": {},
   "outputs": [],
   "source": [
    "data.drop(['user-id','transaction-id'],axis=1,inplace=True)"
   ]
  },
  {
   "cell_type": "code",
   "execution_count": null,
   "id": "0e594c07",
   "metadata": {},
   "outputs": [],
   "source": [
    "data.shape"
   ]
  },
  {
   "cell_type": "markdown",
   "id": "637ca527",
   "metadata": {},
   "source": [
    " here the user id and transaction id will not contribute to the target variable so we droped that column"
   ]
  },
  {
   "cell_type": "code",
   "execution_count": null,
   "id": "9902284c",
   "metadata": {},
   "outputs": [],
   "source": [
    "# onehot encoding"
   ]
  },
  {
   "cell_type": "code",
   "execution_count": null,
   "id": "03003681",
   "metadata": {},
   "outputs": [],
   "source": [
    "data=pd.get_dummies(data)"
   ]
  },
  {
   "cell_type": "code",
   "execution_count": null,
   "id": "f1b5aedb",
   "metadata": {},
   "outputs": [],
   "source": [
    "data.head()"
   ]
  },
  {
   "cell_type": "markdown",
   "id": "99dda1db",
   "metadata": {},
   "source": [
    "now we have done with encoding"
   ]
  },
  {
   "cell_type": "code",
   "execution_count": null,
   "id": "ec19558c",
   "metadata": {},
   "outputs": [],
   "source": [
    "# feature reduction"
   ]
  },
  {
   "cell_type": "code",
   "execution_count": null,
   "id": "a3f587a2",
   "metadata": {},
   "outputs": [],
   "source": [
    "corrmatrix=data.corr()\n",
    "plt.subplots(figsize=(30,30))\n",
    "sns.heatmap(corrmatrix,vmin=-0.4,vmax=0.9,annot=True,linewidths=0.2,cmap='YlGnBu')"
   ]
  },
  {
   "cell_type": "code",
   "execution_count": null,
   "id": "10f1d8d9",
   "metadata": {},
   "outputs": [],
   "source": [
    "#feature reduction\n",
    "# here columns month and year is not contributing to the model\n",
    "#user dependand is negatively correlated with user saving\n",
    "#user pension is positively correlated with user-risk aversion_high\n",
    "#so droping columns user dependand and user pension"
   ]
  },
  {
   "cell_type": "code",
   "execution_count": null,
   "id": "268d8cbb",
   "metadata": {},
   "outputs": [],
   "source": [
    "data.columns"
   ]
  },
  {
   "cell_type": "code",
   "execution_count": null,
   "id": "88c59398",
   "metadata": {},
   "outputs": [],
   "source": [
    "data=data.drop(['user-dependents','user-pension','year', 'month'],axis=1)\n",
    "data.head()"
   ]
  },
  {
   "cell_type": "code",
   "execution_count": null,
   "id": "9c055af0",
   "metadata": {},
   "outputs": [],
   "source": [
    "# feature engineering"
   ]
  },
  {
   "cell_type": "code",
   "execution_count": null,
   "id": "f2d0f73b",
   "metadata": {},
   "outputs": [],
   "source": [
    "data['user-expenditure']=data['user-income']-data['user-savings']"
   ]
  },
  {
   "cell_type": "code",
   "execution_count": null,
   "id": "79bae0f8",
   "metadata": {},
   "outputs": [],
   "source": [
    "data.shape"
   ]
  },
  {
   "cell_type": "code",
   "execution_count": null,
   "id": "68355f31",
   "metadata": {},
   "outputs": [],
   "source": [
    "# here created a new column 'user-expenditure' which will help to find product relevance"
   ]
  },
  {
   "cell_type": "code",
   "execution_count": null,
   "id": "d713d5a6",
   "metadata": {},
   "outputs": [],
   "source": [
    "# scaling\n",
    "# splitting data \n",
    "x=data.drop(['score'],axis=1)\n",
    "y=data['score']\n",
    "from sklearn.preprocessing import MinMaxScaler\n",
    "min_max=MinMaxScaler(feature_range=(0,1))\n",
    "x=min_max.fit_transform(x)"
   ]
  },
  {
   "cell_type": "markdown",
   "id": "985c5b79",
   "metadata": {},
   "source": [
    "here scaling is done with min max scaler"
   ]
  },
  {
   "cell_type": "markdown",
   "id": "f4428992",
   "metadata": {},
   "source": [
    "# modeling"
   ]
  },
  {
   "cell_type": "code",
   "execution_count": null,
   "id": "78fb9a46",
   "metadata": {},
   "outputs": [],
   "source": [
    "# Linear regression"
   ]
  },
  {
   "cell_type": "code",
   "execution_count": null,
   "id": "274b2781",
   "metadata": {},
   "outputs": [],
   "source": [
    "from sklearn.model_selection import train_test_split\n",
    "x_train, x_test, y_train, y_test=train_test_split(x,y,random_state=42,test_size=0.2)\n",
    "from sklearn import linear_model\n",
    "lr= linear_model.LinearRegression()\n",
    "model= lr.fit(x_train,y_train)\n",
    "predictions=model.predict(x_test)\n",
    "from sklearn.metrics import mean_squared_error\n",
    "from sklearn.metrics import r2_score\n",
    "print('MSE is: ',mean_squared_error(y_test,predictions))\n",
    "print('R square value is:',r2_score(y_test,predictions))"
   ]
  },
  {
   "cell_type": "code",
   "execution_count": null,
   "id": "87a93a50",
   "metadata": {},
   "outputs": [],
   "source": [
    "#Ridge Regression model\n",
    "from sklearn.linear_model import Ridge\n",
    "rr=Ridge()\n",
    "model=rr.fit(x_train,y_train)\n",
    "prediction1=model.predict(x_test) \n",
    "print('MSE is: ',mean_squared_error(y_test,prediction1))\n",
    "print('R square value is:',r2_score(y_test,prediction1))"
   ]
  },
  {
   "cell_type": "code",
   "execution_count": null,
   "id": "4dcfe044",
   "metadata": {},
   "outputs": [],
   "source": [
    "#Lasso Regression model\n",
    "from sklearn.linear_model import Lasso\n",
    "lasso=Lasso()\n",
    "model2=lasso.fit(x_train,y_train)\n",
    "prediction2=model2.predict(x_test)\n",
    "print('MSE is',mean_squared_error(y_test,prediction2))\n",
    "print('R square value is:',r2_score(y_test,prediction2))"
   ]
  },
  {
   "cell_type": "code",
   "execution_count": null,
   "id": "7c02516a",
   "metadata": {},
   "outputs": [],
   "source": [
    "#Among the three models Lassoregression model provides minimum MSE value"
   ]
  },
  {
   "cell_type": "markdown",
   "id": "421bf7b0",
   "metadata": {},
   "source": [
    "# model tuning"
   ]
  },
  {
   "cell_type": "code",
   "execution_count": null,
   "id": "4953f854",
   "metadata": {},
   "outputs": [],
   "source": [
    "from pprint import pprint\n",
    "\n",
    "lr=linear_model.LinearRegression()\n",
    "\n",
    "print('Parameters currently in use:\\n')\n",
    "pprint(lr.get_params())"
   ]
  },
  {
   "cell_type": "code",
   "execution_count": null,
   "id": "04a5529a",
   "metadata": {},
   "outputs": [],
   "source": [
    "from pprint import pprint\n",
    "\n",
    "lr=linear_model.Lasso()\n",
    "\n",
    "print('Parameters currently in use:\\n')\n",
    "pprint(lasso.get_params())"
   ]
  },
  {
   "cell_type": "code",
   "execution_count": null,
   "id": "6ee436be",
   "metadata": {},
   "outputs": [],
   "source": [
    "from pprint import pprint\n",
    "\n",
    "lr=linear_model.Ridge()\n",
    "\n",
    "print('Parameters currently in use:\\n')\n",
    "pprint(rr.get_params())"
   ]
  },
  {
   "cell_type": "code",
   "execution_count": null,
   "id": "e6ced75b",
   "metadata": {},
   "outputs": [],
   "source": []
  }
 ],
 "metadata": {
  "kernelspec": {
   "display_name": "Python 3 (ipykernel)",
   "language": "python",
   "name": "python3"
  },
  "language_info": {
   "codemirror_mode": {
    "name": "ipython",
    "version": 3
   },
   "file_extension": ".py",
   "mimetype": "text/x-python",
   "name": "python",
   "nbconvert_exporter": "python",
   "pygments_lexer": "ipython3",
   "version": "3.9.7"
  }
 },
 "nbformat": 4,
 "nbformat_minor": 5
}
